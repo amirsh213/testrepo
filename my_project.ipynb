{
 "cells": [
  {
   "cell_type": "markdown",
   "id": "d300b002-c31b-40d1-bfad-ea1a8765f1f4",
   "metadata": {},
   "source": [
    "# My Jupyter Notebook on IBM Watson Studio"
   ]
  },
  {
   "cell_type": "markdown",
   "id": "478662c2-46f0-4068-be02-a1820f230e23",
   "metadata": {},
   "source": [
    "**Amir Sina Hamedi**"
   ]
  },
  {
   "cell_type": "markdown",
   "id": "79058784-7284-4802-8ba1-b3d3fe553570",
   "metadata": {},
   "source": [
    "Chemical engineer"
   ]
  },
  {
   "cell_type": "markdown",
   "id": "70962ac8-e50d-49e6-a826-a7e2352b2495",
   "metadata": {},
   "source": [
    "*I am interested in data science because part of my job is related to manipulating big data.*"
   ]
  },
  {
   "cell_type": "markdown",
   "id": "50fa89af-e397-47d3-aa8c-aa42b80b0406",
   "metadata": {},
   "source": [
    "### This code calculates the sphere volume."
   ]
  },
  {
   "cell_type": "code",
   "execution_count": 3,
   "id": "0d6bf546-d765-4631-9b08-bd97186c7115",
   "metadata": {},
   "outputs": [
    {
     "name": "stdout",
     "output_type": "stream",
     "text": [
      "Volume is 113.09733552923254\n"
     ]
    }
   ],
   "source": [
    "import numpy as np\n",
    "def sph_vol(r):\n",
    "    V = 4/3*np.pi*r**3\n",
    "    return print('Volume is', V)\n",
    "\n",
    "sph_vol(3)"
   ]
  },
  {
   "cell_type": "markdown",
   "id": "8d6648b4-34ed-4c50-accf-0b46107a2bac",
   "metadata": {},
   "source": [
    "> This is year 2022.\n",
    ">\n",
    "> We are still trying to overcome Covid-19.\n",
    "\n",
    "1. First item\n",
    "2. Second item\n",
    "3. Third item\n",
    "   - Sub-item 1\n",
    "   - Sub-item 2\n",
    "\n",
    "| Item      | Color |\n",
    "| ----------- | ----------- |\n",
    "| Apple      | Red       |\n",
    "| Banana   | Yellow        |"
   ]
  }
 ],
 "metadata": {
  "kernelspec": {
   "display_name": "Python",
   "language": "python",
   "name": "conda-env-python-py"
  },
  "language_info": {
   "codemirror_mode": {
    "name": "ipython",
    "version": 3
   },
   "file_extension": ".py",
   "mimetype": "text/x-python",
   "name": "python",
   "nbconvert_exporter": "python",
   "pygments_lexer": "ipython3",
   "version": "3.7.12"
  }
 },
 "nbformat": 4,
 "nbformat_minor": 5
}
